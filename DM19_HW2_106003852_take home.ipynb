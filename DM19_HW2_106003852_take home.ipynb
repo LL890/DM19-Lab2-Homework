{
 "cells": [
  {
   "cell_type": "markdown",
   "metadata": {},
   "source": [
    "Student Information\n",
    "\n",
    "Name:  劉榮萱 \n",
    "\n",
    "Student ID: 106003852\n",
    "\n",
    "GitHub ID: ll890\n",
    "\n",
    "Kaggle name: Linda Liou\n",
    "\n",
    "Kaggle private scoreboard snapshot:"
   ]
  },
  {
   "cell_type": "code",
   "execution_count": 1,
   "metadata": {},
   "outputs": [],
   "source": [
    "import pandas as pd\n",
    "\n",
    "# training data\n",
    "anger_train = pd.read_csv(\"data/semeval/train/anger-ratings-0to1.train.txt\",\n",
    "                         sep=\"\\t\", header=None,names=[\"id\", \"text\", \"emotion\", \"intensity\"])\n",
    "sadness_train = pd.read_csv(\"data/semeval/train/sadness-ratings-0to1.train.txt\",\n",
    "                         sep=\"\\t\", header=None, names=[\"id\", \"text\", \"emotion\", \"intensity\"])\n",
    "fear_train = pd.read_csv(\"data/semeval/train/fear-ratings-0to1.train.txt\",\n",
    "                         sep=\"\\t\", header=None, names=[\"id\", \"text\", \"emotion\", \"intensity\"])\n",
    "joy_train = pd.read_csv(\"data/semeval/train/joy-ratings-0to1.train.txt\",\n",
    "                         sep=\"\\t\", header=None, names=[\"id\", \"text\", \"emotion\", \"intensity\"])\n",
    "\n",
    "# combine training data\n",
    "train_df = pd.concat([anger_train, sadness_train, fear_train, joy_train], ignore_index=True) "
   ]
  },
  {
   "cell_type": "code",
   "execution_count": 2,
   "metadata": {},
   "outputs": [],
   "source": [
    "# testing data\n",
    "\n",
    "anger_test = pd.read_csv(\"data/semeval/dev/anger-ratings-0to1.dev.gold.txt\",\n",
    "                         sep=\"\\t\", header=None, names=[\"id\", \"text\", \"emotion\", \"intensity\"])\n",
    "sadness_test = pd.read_csv(\"data/semeval/dev/sadness-ratings-0to1.dev.gold.txt\",\n",
    "                         sep=\"\\t\", header=None, names=[\"id\", \"text\", \"emotion\", \"intensity\"])\n",
    "fear_test = pd.read_csv(\"data/semeval/dev/fear-ratings-0to1.dev.gold.txt\",\n",
    "                         sep=\"\\t\", header=None, names=[\"id\", \"text\", \"emotion\", \"intensity\"])\n",
    "joy_test = pd.read_csv(\"data/semeval/dev/joy-ratings-0to1.dev.gold.txt\",\n",
    "                         sep=\"\\t\", header=None, names=[\"id\", \"text\", \"emotion\", \"intensity\"])\n",
    "\n",
    "# combine testing data\n",
    "test_df = pd.concat([anger_test, sadness_test, fear_test, joy_test], ignore_index=True) "
   ]
  },
  {
   "cell_type": "code",
   "execution_count": 3,
   "metadata": {},
   "outputs": [
    {
     "data": {
      "text/html": [
       "<div>\n",
       "<style scoped>\n",
       "    .dataframe tbody tr th:only-of-type {\n",
       "        vertical-align: middle;\n",
       "    }\n",
       "\n",
       "    .dataframe tbody tr th {\n",
       "        vertical-align: top;\n",
       "    }\n",
       "\n",
       "    .dataframe thead th {\n",
       "        text-align: right;\n",
       "    }\n",
       "</style>\n",
       "<table border=\"1\" class=\"dataframe\">\n",
       "  <thead>\n",
       "    <tr style=\"text-align: right;\">\n",
       "      <th></th>\n",
       "      <th>id</th>\n",
       "      <th>text</th>\n",
       "      <th>emotion</th>\n",
       "      <th>intensity</th>\n",
       "    </tr>\n",
       "  </thead>\n",
       "  <tbody>\n",
       "    <tr>\n",
       "      <th>0</th>\n",
       "      <td>10857</td>\n",
       "      <td>@ZubairSabirPTI  pls dont insult the word 'Molna'</td>\n",
       "      <td>anger</td>\n",
       "      <td>0.479</td>\n",
       "    </tr>\n",
       "    <tr>\n",
       "      <th>1</th>\n",
       "      <td>10858</td>\n",
       "      <td>@ArcticFantasy I would have almost took offens...</td>\n",
       "      <td>anger</td>\n",
       "      <td>0.458</td>\n",
       "    </tr>\n",
       "    <tr>\n",
       "      <th>2</th>\n",
       "      <td>10859</td>\n",
       "      <td>@IllinoisLoyalty that Rutgers game was an abom...</td>\n",
       "      <td>anger</td>\n",
       "      <td>0.562</td>\n",
       "    </tr>\n",
       "    <tr>\n",
       "      <th>3</th>\n",
       "      <td>10860</td>\n",
       "      <td>@CozanGaming that's what lisa asked before she...</td>\n",
       "      <td>anger</td>\n",
       "      <td>0.500</td>\n",
       "    </tr>\n",
       "    <tr>\n",
       "      <th>4</th>\n",
       "      <td>10861</td>\n",
       "      <td>Sometimes I get mad over something so minuscul...</td>\n",
       "      <td>anger</td>\n",
       "      <td>0.708</td>\n",
       "    </tr>\n",
       "  </tbody>\n",
       "</table>\n",
       "</div>"
      ],
      "text/plain": [
       "      id                                               text emotion  intensity\n",
       "0  10857  @ZubairSabirPTI  pls dont insult the word 'Molna'   anger      0.479\n",
       "1  10858  @ArcticFantasy I would have almost took offens...   anger      0.458\n",
       "2  10859  @IllinoisLoyalty that Rutgers game was an abom...   anger      0.562\n",
       "3  10860  @CozanGaming that's what lisa asked before she...   anger      0.500\n",
       "4  10861  Sometimes I get mad over something so minuscul...   anger      0.708"
      ]
     },
     "execution_count": 3,
     "metadata": {},
     "output_type": "execute_result"
    }
   ],
   "source": [
    "test_df.head()"
   ]
  },
  {
   "cell_type": "markdown",
   "metadata": {},
   "source": [
    "Exercise 1"
   ]
  },
  {
   "cell_type": "code",
   "execution_count": 4,
   "metadata": {},
   "outputs": [],
   "source": [
    "# tokenize\n",
    "\n",
    "import helpers.data_mining_helpers as dmh\n",
    "import nltk\n",
    "\n",
    "train_df['unigrams'] = train_df['text'].apply(lambda x: dmh.tokenize_text(x))\n",
    "test_df['unigrams'] = test_df['text'].apply(lambda x: dmh.tokenize_text(x))"
   ]
  },
  {
   "cell_type": "code",
   "execution_count": 5,
   "metadata": {},
   "outputs": [
    {
     "data": {
      "text/plain": [
       "0    [@, ZubairSabirPTI, pls, dont, insult, the, wo...\n",
       "1    [@, ArcticFantasy, I, would, have, almost, too...\n",
       "2    [@, IllinoisLoyalty, that, Rutgers, game, was,...\n",
       "Name: unigrams, dtype: object"
      ]
     },
     "execution_count": 5,
     "metadata": {},
     "output_type": "execute_result"
    }
   ],
   "source": [
    "test_df[0:3]['unigrams']"
   ]
  },
  {
   "cell_type": "code",
   "execution_count": 6,
   "metadata": {},
   "outputs": [],
   "source": [
    "# transform into term-document matrix\n",
    "\n",
    "from sklearn.feature_extraction.text import CountVectorizer\n",
    "\n",
    "count_vect = CountVectorizer()\n",
    "train_counts = count_vect.fit_transform(train_df.text)\n",
    "test_counts = count_vect.fit_transform(test_df.text)"
   ]
  },
  {
   "cell_type": "code",
   "execution_count": 7,
   "metadata": {},
   "outputs": [
    {
     "data": {
      "text/plain": [
       "(3613, 10115)"
      ]
     },
     "execution_count": 7,
     "metadata": {},
     "output_type": "execute_result"
    }
   ],
   "source": [
    "train_counts.shape"
   ]
  },
  {
   "cell_type": "code",
   "execution_count": 8,
   "metadata": {},
   "outputs": [
    {
     "data": {
      "text/plain": [
       "['10',\n",
       " '11',\n",
       " '11am',\n",
       " '12',\n",
       " '12s',\n",
       " '138',\n",
       " '158',\n",
       " '15gets20',\n",
       " '16',\n",
       " '17',\n",
       " '18',\n",
       " '18mths',\n",
       " '1johndes',\n",
       " '1st',\n",
       " '22',\n",
       " '24',\n",
       " '25',\n",
       " '250',\n",
       " '2day',\n",
       " '2k',\n",
       " '2nd',\n",
       " '30',\n",
       " '340',\n",
       " '3pm',\n",
       " '400',\n",
       " '50',\n",
       " '500',\n",
       " '5livesport',\n",
       " '7lw',\n",
       " '892',\n",
       " '__netflixnchill',\n",
       " 'a3',\n",
       " 'a79l',\n",
       " 'aaahhhh',\n",
       " 'aaliyahlove69',\n",
       " 'abomination',\n",
       " 'about',\n",
       " 'abra',\n",
       " 'absolutely',\n",
       " 'academics',\n",
       " 'accept',\n",
       " 'accidentally',\n",
       " 'account',\n",
       " 'accuse',\n",
       " 'acrid',\n",
       " 'across',\n",
       " 'act',\n",
       " 'action',\n",
       " 'actually',\n",
       " 'adapts',\n",
       " 'adopting',\n",
       " 'adorable',\n",
       " 'ads',\n",
       " 'adventuretweets',\n",
       " 'adviser',\n",
       " 'af',\n",
       " 'affection',\n",
       " 'affliction',\n",
       " 'affront',\n",
       " 'afghanistan',\n",
       " 'afraid',\n",
       " 'after',\n",
       " 'again',\n",
       " 'against',\n",
       " 'age',\n",
       " 'agenda',\n",
       " 'aggravate',\n",
       " 'aggravation',\n",
       " 'ago',\n",
       " 'agreed',\n",
       " 'ahmad_khan_rahami',\n",
       " 'air',\n",
       " 'airtel',\n",
       " 'airtelindia',\n",
       " 'aishwaryaraibachchan',\n",
       " 'aka',\n",
       " 'alan',\n",
       " 'alarm',\n",
       " 'alaskagurus',\n",
       " 'alcohol',\n",
       " 'alex',\n",
       " 'alike',\n",
       " 'all',\n",
       " 'all4',\n",
       " 'alliance',\n",
       " 'almost',\n",
       " 'alone',\n",
       " 'already',\n",
       " 'also',\n",
       " 'alton',\n",
       " 'always',\n",
       " 'am',\n",
       " 'amateur',\n",
       " 'amazing',\n",
       " 'american',\n",
       " 'amndbots',\n",
       " 'amp',\n",
       " 'an',\n",
       " 'ananya',\n",
       " 'and']"
      ]
     },
     "execution_count": 8,
     "metadata": {},
     "output_type": "execute_result"
    }
   ],
   "source": [
    "count_vect.get_feature_names()[0:100]"
   ]
  },
  {
   "cell_type": "code",
   "execution_count": 9,
   "metadata": {},
   "outputs": [],
   "source": [
    "# calculate term frequency in train dataset\n",
    "import numpy as np\n",
    "\n",
    "term_frequencies = []\n",
    "for i in range(0,train_counts.shape[1]):\n",
    "    term_frequencies.append(sum(train_counts[:,i].toarray()))"
   ]
  },
  {
   "cell_type": "code",
   "execution_count": 10,
   "metadata": {},
   "outputs": [],
   "source": [
    "term_frequencies_train = np.asarray(train_counts.sum(axis=0))[0]"
   ]
  },
  {
   "cell_type": "code",
   "execution_count": 11,
   "metadata": {},
   "outputs": [
    {
     "data": {
      "text/plain": [
       "array([2, 1, 1], dtype=int64)"
      ]
     },
     "execution_count": 11,
     "metadata": {},
     "output_type": "execute_result"
    }
   ],
   "source": [
    "term_frequencies_train[0:3]"
   ]
  },
  {
   "cell_type": "code",
   "execution_count": 12,
   "metadata": {},
   "outputs": [
    {
     "data": {
      "text/plain": [
       "[(1, 5478),\n",
       " (2, 2217),\n",
       " (3, 663),\n",
       " (4, 372),\n",
       " (5, 220),\n",
       " (6, 161),\n",
       " (7, 113),\n",
       " (8, 97),\n",
       " (10, 65),\n",
       " (9, 63),\n",
       " (11, 50),\n",
       " (13, 43),\n",
       " (14, 38),\n",
       " (12, 36),\n",
       " (15, 32),\n",
       " (18, 30),\n",
       " (16, 29),\n",
       " (17, 27),\n",
       " (21, 23),\n",
       " (20, 17),\n",
       " (19, 17),\n",
       " (34, 15),\n",
       " (24, 14),\n",
       " (32, 12),\n",
       " (23, 11),\n",
       " (27, 9),\n",
       " (25, 9),\n",
       " (30, 9),\n",
       " (28, 8),\n",
       " (36, 8)]"
      ]
     },
     "execution_count": 12,
     "metadata": {},
     "output_type": "execute_result"
    }
   ],
   "source": [
    "# most frequent 30 terms in train dataset\n",
    "import numpy as np\n",
    "from collections import Counter\n",
    "\n",
    "c_train = Counter(term_frequencies_train)\n",
    "c_train.most_common(30)"
   ]
  },
  {
   "cell_type": "code",
   "execution_count": 13,
   "metadata": {},
   "outputs": [],
   "source": [
    "# calculate term frequency in test dataset\n",
    "import numpy as np\n",
    "\n",
    "term_frequencies = []\n",
    "for i in range(0,test_counts.shape[1]):\n",
    "    term_frequencies.append(sum(test_counts[:,i].toarray()))"
   ]
  },
  {
   "cell_type": "code",
   "execution_count": 14,
   "metadata": {},
   "outputs": [],
   "source": [
    "term_frequencies_test = np.asarray(test_counts.sum(axis=0))[0]"
   ]
  },
  {
   "cell_type": "code",
   "execution_count": 15,
   "metadata": {},
   "outputs": [
    {
     "data": {
      "text/plain": [
       "[(1, 1150),\n",
       " (2, 441),\n",
       " (3, 124),\n",
       " (4, 66),\n",
       " (6, 32),\n",
       " (5, 26),\n",
       " (9, 15),\n",
       " (7, 13),\n",
       " (8, 10),\n",
       " (14, 7),\n",
       " (11, 6),\n",
       " (10, 5),\n",
       " (24, 5),\n",
       " (20, 4),\n",
       " (12, 4),\n",
       " (15, 4),\n",
       " (30, 3),\n",
       " (29, 3),\n",
       " (13, 3),\n",
       " (17, 3),\n",
       " (16, 2),\n",
       " (26, 2),\n",
       " (22, 2),\n",
       " (21, 2),\n",
       " (83, 2),\n",
       " (34, 2),\n",
       " (92, 1),\n",
       " (40, 1),\n",
       " (32, 1),\n",
       " (57, 1)]"
      ]
     },
     "execution_count": 15,
     "metadata": {},
     "output_type": "execute_result"
    }
   ],
   "source": [
    "# most frequent 30 terms in test dataset\n",
    "import numpy as np\n",
    "from collections import Counter\n",
    "\n",
    "c_test = Counter(term_frequencies_test)\n",
    "c_test.most_common(30)"
   ]
  },
  {
   "cell_type": "code",
   "execution_count": 17,
   "metadata": {},
   "outputs": [
    {
     "data": {
      "text/plain": [
       "emotion\n",
       "anger       857\n",
       "fear       1147\n",
       "joy         823\n",
       "sadness     786\n",
       "Name: text, dtype: int64"
      ]
     },
     "execution_count": 17,
     "metadata": {},
     "output_type": "execute_result"
    }
   ],
   "source": [
    "train_df.groupby(['emotion']).count()['text']"
   ]
  },
  {
   "cell_type": "markdown",
   "metadata": {},
   "source": [
    "Exercise 2"
   ]
  },
  {
   "cell_type": "code",
   "execution_count": 26,
   "metadata": {},
   "outputs": [],
   "source": [
    "# TFIDF\n",
    "\n",
    "from sklearn.feature_extraction.text import TfidfVectorizer\n",
    "tf = TfidfVectorizer()\n",
    "text_tf = tf.fit_transform(train_df['text'])"
   ]
  },
  {
   "cell_type": "code",
   "execution_count": 23,
   "metadata": {},
   "outputs": [
    {
     "data": {
      "text/plain": [
       "<3613x10115 sparse matrix of type '<class 'numpy.float64'>'\n",
       "\twith 51467 stored elements in Compressed Sparse Row format>"
      ]
     },
     "execution_count": 23,
     "metadata": {},
     "output_type": "execute_result"
    }
   ],
   "source": [
    "text_tf"
   ]
  },
  {
   "cell_type": "code",
   "execution_count": 24,
   "metadata": {},
   "outputs": [
    {
     "data": {
      "text/plain": [
       "array([[0., 0., 0., ..., 0., 0., 0.],\n",
       "       [0., 0., 0., ..., 0., 0., 0.],\n",
       "       [0., 0., 0., ..., 0., 0., 0.],\n",
       "       ...,\n",
       "       [0., 0., 0., ..., 0., 0., 0.],\n",
       "       [0., 0., 0., ..., 0., 0., 0.],\n",
       "       [0., 0., 0., ..., 0., 0., 0.]])"
      ]
     },
     "execution_count": 24,
     "metadata": {},
     "output_type": "execute_result"
    }
   ],
   "source": [
    "text_tf.toarray()"
   ]
  },
  {
   "cell_type": "code",
   "execution_count": 27,
   "metadata": {},
   "outputs": [
    {
     "data": {
      "text/plain": [
       "['2k17', '2much', '2nd', '30', '300', '301', '30am', '30pm', '30s', '31']"
      ]
     },
     "execution_count": 27,
     "metadata": {},
     "output_type": "execute_result"
    }
   ],
   "source": [
    "# show the feature names[100:110]\n",
    "\n",
    "feature_names = tf.get_feature_names()\n",
    "feature_names[100:110]"
   ]
  },
  {
   "cell_type": "markdown",
   "metadata": {},
   "source": [
    "Exercise 3"
   ]
  },
  {
   "cell_type": "code",
   "execution_count": null,
   "metadata": {},
   "outputs": [],
   "source": [
    "# from the confusion matrix, we can tell the accuracy of the predictions.\n",
    "# accuracy = (55+70+54+42)/all = 0.637\n",
    "\n",
    "# generally speaking, \"anger\" and \"fear\" are easily confused. \"sadness\" and \"fear\" are easily confused too. \n",
    "# among four different feeling, positive feeling- \"joy\" is easily distinguished from others.\n",
    "\n",
    "# let's calculate the precisions of emotions as below.\n",
    "## precision (anger) = 0.655\n",
    "## precision (fear) = 0.619\n",
    "## precision (joy) = 0.667\n",
    "## precision (sadness) = 0.609\n",
    "# so the prediction performs best in judging \"joy\", and worst in judging \"sadness\"."
   ]
  },
  {
   "cell_type": "markdown",
   "metadata": {},
   "source": [
    " Exercise 4"
   ]
  },
  {
   "cell_type": "code",
   "execution_count": 18,
   "metadata": {},
   "outputs": [],
   "source": [
    "from sklearn.model_selection import train_test_split\n",
    "\n",
    "# training data: test data= 9:1\n",
    "X_train, X_test, y_train, y_test = train_test_split(train_counts,train_df['emotion'], test_size=0.1, random_state=1)"
   ]
  },
  {
   "cell_type": "code",
   "execution_count": 19,
   "metadata": {},
   "outputs": [
    {
     "name": "stdout",
     "output_type": "stream",
     "text": [
      "MultinomialNB Accuracy: 0.8232044198895028\n"
     ]
    }
   ],
   "source": [
    "# Naive Bayes model and result\n",
    "\n",
    "from sklearn.naive_bayes import MultinomialNB\n",
    "from sklearn import metrics\n",
    "clf = MultinomialNB().fit(X_train,y_train)\n",
    "predicted = clf.predict(X_test)\n",
    "print(\"MultinomialNB Accuracy:\",metrics.accuracy_score(y_test, predicted))"
   ]
  },
  {
   "cell_type": "markdown",
   "metadata": {},
   "source": [
    "Exercise 5"
   ]
  },
  {
   "cell_type": "code",
   "execution_count": 20,
   "metadata": {},
   "outputs": [],
   "source": [
    "# Decision Tree is easy to construct, easy to interpret for small-sized trees.\n",
    "# Decision Tree is easy to use features to identify significant dimensions, handle missing values, and deal with outliers.\n",
    "# for categorical data, Decision Tree is a good approach to deal with it.\n",
    "# as for its major problem- overfitting, it can be minimized by using boosting approaches or random forest.\n",
    "\n",
    "# Naive Bayes is a linear classifier, usually get good results in most cases.\n",
    "# in general, Naive Bayes is highly accurate when applied to big data. In computer vision and robotics, Naive Bayes outperforms.\n",
    "# Naive Bayes requires to build a classification by hand. Usually we need to combine statistical techniques to guide suitable features.\n",
    "\n",
    "# In this case, Naive Bayes model performs better result rather Decision Tree."
   ]
  },
  {
   "cell_type": "markdown",
   "metadata": {},
   "source": [
    "Exercise 6"
   ]
  },
  {
   "cell_type": "code",
   "execution_count": 26,
   "metadata": {},
   "outputs": [
    {
     "data": {
      "image/png": "[encoded data removed]",
      "text/plain": [
       "<Figure size 432x288 with 1 Axes>"
      ]
     },
     "metadata": {
      "needs_background": "light"
     },
     "output_type": "display_data"
    },
    {
     "data": {
      "image/png": "[encoded data removed]",
      "text/plain": [
       "<Figure size 432x288 with 1 Axes>"
      ]
     },
     "metadata": {
      "needs_background": "light"
     },
     "output_type": "display_data"
    }
   ],
   "source": [
    "import matplotlib.pyplot as plt\n",
    "import pandas as pd\n",
    "\n",
    "#df = pd.read_csv(\"logs/training_log.csv\")\n",
    "#epoch = df[\"col_name\"]['epoch']\n",
    "#train_accuracy = df[\"col_name\"]['accuracy']\n",
    "#val_accuracy = df[\"col_name\"]['val_accuracy']\n",
    "\n",
    "epoch = pd.read_csv('logs/training_log.csv', usecols = ['epoch'])\n",
    "train_accuracy = pd.read_csv('logs/training_log.csv', usecols = ['accuracy'])\n",
    "val_accuracy = pd.read_csv('logs/training_log.csv', usecols = ['val_accuracy'])\n",
    "train_loss = pd.read_csv('logs/training_log.csv', usecols = ['loss'])\n",
    "val_loss = pd.read_csv('logs/training_log.csv', usecols = ['val_loss'])\n",
    "                             \n",
    "plt.plot(epoch, train_accuracy, color='blue')\n",
    "plt.plot(epoch, val_accuracy, color='red')\n",
    "plt.xlabel('Epochs')\n",
    "plt.ylabel('Accuracy')\n",
    "plt.title('Training Accuracy per epoch')\n",
    "plt.show()\n",
    "\n",
    "plt.plot(epoch, train_loss, color='blue')\n",
    "plt.plot(epoch, val_loss, color='red')\n",
    "plt.xlabel('Epochs')\n",
    "plt.ylabel('Loss')\n",
    "plt.title('Training Loss per epoch')\n",
    "plt.show()"
   ]
  },
  {
   "cell_type": "code",
   "execution_count": null,
   "metadata": {},
   "outputs": [],
   "source": []
  }
 ],
 "metadata": {
  "kernelspec": {
   "display_name": "Python 3",
   "language": "python",
   "name": "python3"
  },
  "language_info": {
   "codemirror_mode": {
    "name": "ipython",
    "version": 3
   },
   "file_extension": ".py",
   "mimetype": "text/x-python",
   "name": "python",
   "nbconvert_exporter": "python",
   "pygments_lexer": "ipython3",
   "version": "3.7.3"
  }
 },
 "nbformat": 4,
 "nbformat_minor": 2
}
