{
 "cells": [
  {
   "cell_type": "markdown",
   "metadata": {},
   "source": [
    "Student Information\n",
    "\n",
    "Name: 劉榮萱 \n",
    "\n",
    "Student ID: 106003852\n",
    "\n",
    "GitHub ID: ll890\n",
    "\n",
    "Kaggle name: Linda Liou"
   ]
  },
  {
   "cell_type": "code",
   "execution_count": 1,
   "metadata": {},
   "outputs": [],
   "source": [
    "import nltk\n",
    "import pandas as pd\n",
    "import json"
   ]
  },
  {
   "cell_type": "code",
   "execution_count": 2,
   "metadata": {},
   "outputs": [],
   "source": [
    "# read files\n",
    "df_di = pd.read_csv('data_identification.csv')\n",
    "df_em = pd.read_csv('emotion.csv')\n",
    "data = [json.loads(line) for line in open('tweets_DM.json', 'r')]"
   ]
  },
  {
   "cell_type": "code",
   "execution_count": 3,
   "metadata": {},
   "outputs": [],
   "source": [
    "ms={}\n",
    "# get ID and text\n",
    "for item in data:\n",
    "    ms[item['_source']['tweet']['tweet_id']]=item['_source']['tweet']['text']"
   ]
  },
  {
   "cell_type": "code",
   "execution_count": 4,
   "metadata": {},
   "outputs": [],
   "source": [
    "# into Dataframe\n",
    "df_ms = pd.DataFrame.from_dict(ms, orient='index',columns=['text'])\n",
    "df_ms.index.names = ['tweet_id']\n",
    "df_ms = df_ms.reset_index()"
   ]
  },
  {
   "cell_type": "code",
   "execution_count": 5,
   "metadata": {},
   "outputs": [],
   "source": [
    "# merge\n",
    "df = pd.merge(df_ms,df_di)"
   ]
  },
  {
   "cell_type": "code",
   "execution_count": 6,
   "metadata": {},
   "outputs": [],
   "source": [
    "# training data & test data, labels for training data\n",
    "train = df[df['identification']=='train'].drop(['identification'],axis=1)\n",
    "test = df[df['identification']=='test'].drop(['identification'],axis=1)\n",
    "train = pd.merge(train,df_em)"
   ]
  },
  {
   "cell_type": "markdown",
   "metadata": {},
   "source": [
    "# Sampling (30000 samples for each type of emotion)"
   ]
  },
  {
   "cell_type": "code",
   "execution_count": 51,
   "metadata": {},
   "outputs": [],
   "source": [
    "joy=train[train['emotion']=='joy'].sample(30000)\n",
    "anticipation=train[train['emotion']=='anticipation'].sample(30000)\n",
    "trust=train[train['emotion']=='trust'].sample(30000)\n",
    "sadness=train[train['emotion']=='sadness'].sample(30000)\n",
    "disgust=train[train['emotion']=='disgust'].sample(30000)\n",
    "fear=train[train['emotion']=='fear'].sample(30000)\n",
    "surprise=train[train['emotion']=='surprise'].sample(30000)\n",
    "anger=train[train['emotion']=='anger'].sample(30000)\n",
    "new_train=pd.concat([joy,anticipation,trust,sadness,disgust,fear,surprise,anger])"
   ]
  },
  {
   "cell_type": "markdown",
   "metadata": {},
   "source": [
    "# CountVectorizer"
   ]
  },
  {
   "cell_type": "code",
   "execution_count": 59,
   "metadata": {},
   "outputs": [],
   "source": [
    "from sklearn.feature_extraction.text import CountVectorizer\n",
    "from nltk.tokenize import RegexpTokenizer\n",
    "\n",
    "#tokenize, remove symbols and numbers\n",
    "token = RegexpTokenizer(r'[a-zA-Z0-9]+')\n",
    "cv = CountVectorizer(lowercase=True,stop_words='english',ngram_range = (1,3),tokenizer = token.tokenize)\n",
    "counts= cv.fit_transform(train['text'])"
   ]
  },
  {
   "cell_type": "code",
   "execution_count": 60,
   "metadata": {},
   "outputs": [],
   "source": [
    "from sklearn.model_selection import train_test_split\n",
    "# training data: test data= 9:1\n",
    "X_train, X_test, y_train, y_test = train_test_split(counts,train['emotion'], test_size=0.1, random_state=1)"
   ]
  },
  {
   "cell_type": "code",
   "execution_count": 61,
   "metadata": {},
   "outputs": [
    {
     "name": "stdout",
     "output_type": "stream",
     "text": [
      "MultinomialNB Accuracy: 0.5522441380352714\n"
     ]
    }
   ],
   "source": [
    "# Naive Bayes\n",
    "\n",
    "from sklearn.naive_bayes import MultinomialNB\n",
    "from sklearn import metrics\n",
    "clf = MultinomialNB().fit(X_train,y_train)\n",
    "predicted = clf.predict(X_test)\n",
    "print(\"MultinomialNB Accuracy:\",metrics.accuracy_score(y_test, predicted))"
   ]
  },
  {
   "cell_type": "code",
   "execution_count": 55,
   "metadata": {},
   "outputs": [],
   "source": [
    "counts2 = cv.transform(test['text'])\n",
    "predicted_test = clf.predict(counts2)"
   ]
  },
  {
   "cell_type": "code",
   "execution_count": 56,
   "metadata": {},
   "outputs": [],
   "source": [
    "import csv\n",
    "# output csv\n",
    "with open('output.csv', 'w', newline='') as csvfile:\n",
    "    writer = csv.writer(csvfile)\n",
    "    writer.writerow(['id','emotion'])\n",
    "    for tweet_id,emo in zip(test['tweet_id'],predicted_test):\n",
    "        writer.writerow([tweet_id,emo])"
   ]
  },
  {
   "cell_type": "markdown",
   "metadata": {},
   "source": [
    "# TFIDF"
   ]
  },
  {
   "cell_type": "code",
   "execution_count": 7,
   "metadata": {},
   "outputs": [],
   "source": [
    "# TFIDF\n",
    "\n",
    "from sklearn.feature_extraction.text import TfidfVectorizer\n",
    "tf = TfidfVectorizer()\n",
    "text_tf = tf.fit_transform(train['text'])"
   ]
  },
  {
   "cell_type": "code",
   "execution_count": 9,
   "metadata": {},
   "outputs": [],
   "source": [
    "from sklearn.model_selection import train_test_split\n",
    "X_train, X_test, y_train, y_test = train_test_split(text_tf,train['emotion'], test_size=0.1, random_state=123)"
   ]
  },
  {
   "cell_type": "code",
   "execution_count": 11,
   "metadata": {},
   "outputs": [
    {
     "name": "stdout",
     "output_type": "stream",
     "text": [
      "MultinomialNB Accuracy: 0.46440226165694537\n"
     ]
    }
   ],
   "source": [
    "from sklearn.naive_bayes import MultinomialNB\n",
    "from sklearn import metrics\n",
    "clf2 = MultinomialNB().fit(X_train,y_train)\n",
    "predicted = clf2.predict(X_test)\n",
    "print(\"MultinomialNB Accuracy:\",metrics.accuracy_score(y_test, predicted))"
   ]
  },
  {
   "cell_type": "code",
   "execution_count": 14,
   "metadata": {},
   "outputs": [],
   "source": [
    "import csv\n",
    "counts2=tf.transform(test['text'])\n",
    "predicted_test = clf2.predict(counts2)\n",
    "with open('output.csv', 'w', newline='') as csvfile:\n",
    "    writer = csv.writer(csvfile)\n",
    "    writer.writerow(['id','emotion'])\n",
    "    for tweet_id,emo in zip(test['tweet_id'],predicted_test):\n",
    "        writer.writerow([tweet_id,emo])"
   ]
  },
  {
   "cell_type": "markdown",
   "metadata": {},
   "source": [
    "# SGDClassifier"
   ]
  },
  {
   "cell_type": "code",
   "execution_count": 62,
   "metadata": {},
   "outputs": [
    {
     "name": "stdout",
     "output_type": "stream",
     "text": [
      "SGDClassifier Accuracy: 0.5703126610193945\n"
     ]
    }
   ],
   "source": [
    "from sklearn.linear_model import SGDClassifier\n",
    "from sklearn import metrics\n",
    "sgd_clf = SGDClassifier(random_state=42).fit(X_train, y_train)\n",
    "predicted = sgd_clf.predict(X_test)\n",
    "print(\"SGDClassifier Accuracy:\",metrics.accuracy_score(y_test, predicted))"
   ]
  },
  {
   "cell_type": "code",
   "execution_count": 63,
   "metadata": {},
   "outputs": [],
   "source": [
    "import csv\n",
    "# output csv\n",
    "counts2 = cv.transform(test['text'])\n",
    "predicted_test = sgd_clf.predict(counts2)\n",
    "with open('output.csv', 'w', newline='') as csvfile:\n",
    "    writer = csv.writer(csvfile)\n",
    "    writer.writerow(['id','emotion'])\n",
    "    for tweet_id,emo in zip(test['tweet_id'],predicted_test):\n",
    "        writer.writerow([tweet_id,emo])"
   ]
  },
  {
   "cell_type": "markdown",
   "metadata": {},
   "source": [
    "# SVM"
   ]
  },
  {
   "cell_type": "code",
   "execution_count": null,
   "metadata": {},
   "outputs": [],
   "source": [
    "from sklearn import svm\n",
    "SVM = svm.SVC(kernel='linear')\n",
    "SVM.fit(X_train,y_train)\n",
    "predicted= SVM.predict(X_test)\n",
    "print(\"SVM Accuracy:\",metrics.accuracy_score(y_test, predicted))"
   ]
  },
  {
   "cell_type": "markdown",
   "metadata": {},
   "source": [
    "# Decision Tree"
   ]
  },
  {
   "cell_type": "code",
   "execution_count": 13,
   "metadata": {},
   "outputs": [
    {
     "name": "stdout",
     "output_type": "stream",
     "text": [
      "decision tree Accuracy: 0.1875\n"
     ]
    }
   ],
   "source": [
    "from sklearn import tree\n",
    "clf3 = tree.DecisionTreeClassifier()\n",
    "clf3.fit(X_train,y_train)\n",
    "predicted= clf3.predict(X_test)\n",
    "print(\"decision tree Accuracy:\",metrics.accuracy_score(y_test, predicted))"
   ]
  },
  {
   "cell_type": "code",
   "execution_count": null,
   "metadata": {},
   "outputs": [],
   "source": []
  }
 ],
 "metadata": {
  "kernelspec": {
   "display_name": "Python 3",
   "language": "python",
   "name": "python3"
  },
  "language_info": {
   "codemirror_mode": {
    "name": "ipython",
    "version": 3
   },
   "file_extension": ".py",
   "mimetype": "text/x-python",
   "name": "python",
   "nbconvert_exporter": "python",
   "pygments_lexer": "ipython3",
   "version": "3.7.3"
  }
 },
 "nbformat": 4,
 "nbformat_minor": 2
}
